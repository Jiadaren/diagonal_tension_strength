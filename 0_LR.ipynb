{
 "cells": [
  {
   "cell_type": "code",
   "execution_count": 1,
   "id": "a5de8c02-d4ea-4ca7-bf55-603973135f5c",
   "metadata": {},
   "outputs": [
    {
     "name": "stdout",
     "output_type": "stream",
     "text": [
      "Linear Regression Results\n",
      "Training Set - R²: 0.293, RMSE: 0.367, mean_ratio: 1.257, cov_ratio(%): 57.5\n",
      "Testing Set  - R²: 0.418, RMSE: 0.353, mean_ratio: 1.140, cov_ratio(%): 43.2\n"
     ]
    }
   ],
   "source": [
    "import numpy as np\n",
    "import pandas as pd\n",
    "from sklearn.preprocessing import StandardScaler\n",
    "from sklearn.model_selection import train_test_split\n",
    "from sklearn.metrics import r2_score, mean_squared_error, root_mean_squared_error\n",
    "from sklearn.linear_model import LinearRegression\n",
    "import warnings\n",
    "import matplotlib.pyplot as plt\n",
    "warnings.filterwarnings('ignore')\n",
    "\n",
    "# Load data\n",
    "shear_strength = pd.read_csv('shear_strength.csv', header=None)\n",
    "new_or_old = pd.read_csv('new_or_old.csv', header=None)\n",
    "load_type = pd.read_csv('load_type.csv', header=None)\n",
    "wall_l = pd.read_csv('wall_l.csv', header=None)\n",
    "wall_h = pd.read_csv('wall_h.csv', header=None)\n",
    "wall_t = pd.read_csv('wall_t.csv', header=None)\n",
    "leaf_num = pd.read_csv('leaf_num.csv', header=None)\n",
    "bond_pattern = pd.read_csv('bond_pattern.csv', header=None)\n",
    "ft_mortar = pd.read_csv('ft_mortar.csv', header=None)\n",
    "ft_brick = pd.read_csv('ft_brick.csv', header=None)\n",
    "\n",
    "# Combine features and target\n",
    "X = pd.concat([new_or_old, wall_l, wall_t, leaf_num, bond_pattern, ft_mortar, ft_brick], axis=1)\n",
    "X.columns = ['new_or_old', 'wall_l', 'wall_t', 'leaf_num', 'bond_pattern', 'ft_mortar', 'ft_brick']\n",
    "y_raw = shear_strength\n",
    "y_raw.columns = ['shear_strength']\n",
    "y = np.log(y_raw)\n",
    "y.columns = ['shear_strength']\n",
    "\n",
    "# Train-test split\n",
    "X_train, X_test, y_train, y_test = train_test_split(X, y, test_size=0.4, random_state=4)\n",
    "\n",
    "# Scale data\n",
    "scaler = StandardScaler()\n",
    "X_train = scaler.fit_transform(X_train)\n",
    "X_test = scaler.transform(X_test)\n",
    "\n",
    "# Train model\n",
    "model = LinearRegression()\n",
    "model.fit(X_train, y_train.values.ravel())\n",
    "\n",
    "# Predictions\n",
    "y_train_pred_log = model.predict(X_train)\n",
    "y_test_pred_log = model.predict(X_test)\n",
    "\n",
    "y_train_pred = np.exp(y_train_pred_log)\n",
    "y_test_pred = np.exp(y_test_pred_log)\n",
    "\n",
    "y_train_np = y_raw.iloc[y_train.index].to_numpy().squeeze()\n",
    "y_test_np = y_raw.iloc[y_test.index].to_numpy().squeeze()\n",
    "\n",
    "# Training metrics\n",
    "r2_train = r2_score(y_train_np, y_train_pred)\n",
    "rmse_train = root_mean_squared_error(y_train_np, y_train_pred)\n",
    "ratio_train = y_train_np / y_train_pred\n",
    "mean_ratio_train = np.mean(ratio_train)\n",
    "cov_ratio_p_train = np.cov(ratio_train, rowvar=False, ddof=1) * 100\n",
    "\n",
    "# Testing metrics\n",
    "r2_test = r2_score(y_test_np, y_test_pred)\n",
    "rmse_test = root_mean_squared_error(y_test_np, y_test_pred)\n",
    "ratio_test = y_test_np / y_test_pred\n",
    "mean_ratio_test = np.mean(ratio_test)\n",
    "cov_ratio_p_test = np.cov(ratio_test, rowvar=False, ddof=1) * 100\n",
    "\n",
    "# Output results\n",
    "print(\"Linear Regression Results\")\n",
    "print(f\"Training Set - R²: {r2_train:.3f}, RMSE: {rmse_train:.3f}, mean_ratio: {mean_ratio_train:.3f}, cov_ratio(%): {cov_ratio_p_train:.1f}\")\n",
    "print(f\"Testing Set  - R²: {r2_test:.3f}, RMSE: {rmse_test:.3f}, mean_ratio: {mean_ratio_test:.3f}, cov_ratio(%): {cov_ratio_p_test:.1f}\")\n"
   ]
  },
  {
   "cell_type": "code",
   "execution_count": null,
   "id": "f0a53390-4303-4112-bc53-272854348043",
   "metadata": {},
   "outputs": [],
   "source": []
  }
 ],
 "metadata": {
  "kernelspec": {
   "display_name": "Python 3 (ipykernel)",
   "language": "python",
   "name": "python3"
  },
  "language_info": {
   "codemirror_mode": {
    "name": "ipython",
    "version": 3
   },
   "file_extension": ".py",
   "mimetype": "text/x-python",
   "name": "python",
   "nbconvert_exporter": "python",
   "pygments_lexer": "ipython3",
   "version": "3.11.8"
  }
 },
 "nbformat": 4,
 "nbformat_minor": 5
}
